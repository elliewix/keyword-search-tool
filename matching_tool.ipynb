{
 "cells": [
  {
   "cell_type": "code",
   "execution_count": 2,
   "metadata": {
    "collapsed": true
   },
   "outputs": [],
   "source": [
    "import csv"
   ]
  },
  {
   "cell_type": "code",
   "execution_count": 3,
   "metadata": {
    "collapsed": true
   },
   "outputs": [],
   "source": [
    "keywords_f = 'Peru_KeywordsSpanish_2009_2016_AidData.csv'\n",
    "database_f = 'project__1_2016-09-24-15-45.csv'"
   ]
  },
  {
   "cell_type": "code",
   "execution_count": 5,
   "metadata": {
    "collapsed": false
   },
   "outputs": [],
   "source": [
    "with open(keywords_f, 'rU') as fin:\n",
    "    fin = csv.reader(fin)\n",
    "    keywords_head = next(fin)\n",
    "    keywords_data = [d for d in fin]\n",
    "    \n",
    "with open(database_f, 'rU') as fin:\n",
    "    fin = csv.reader(fin)\n",
    "    database_head = next(fin)\n",
    "    database_data = [d for d in fin]"
   ]
  },
  {
   "cell_type": "code",
   "execution_count": 8,
   "metadata": {
    "collapsed": false
   },
   "outputs": [],
   "source": [
    "keywords_head\n",
    "\n",
    "kw = {r[2]: r for r in keywords_data}"
   ]
  },
  {
   "cell_type": "code",
   "execution_count": 12,
   "metadata": {
    "collapsed": false
   },
   "outputs": [],
   "source": [
    "database_head\n",
    "\n",
    "db = {r[0]: r for r in database_data}"
   ]
  },
  {
   "cell_type": "code",
   "execution_count": 29,
   "metadata": {
    "collapsed": true
   },
   "outputs": [],
   "source": [
    "kw_ids = set(kw.keys())\n",
    "db_ids = set(db.keys())\n",
    "db_kw_intersect = kw_ids.intersection(db_ids) # this content will be written to the file\n",
    "db_kw_diff = kw_ids.difference(db_ids) # list of ids kw but not db\n",
    "kw_db_diff = db_ids.difference(kw_ids) # list of ids in db but not kw"
   ]
  },
  {
   "cell_type": "code",
   "execution_count": 22,
   "metadata": {
    "collapsed": false
   },
   "outputs": [
    {
     "data": {
      "text/plain": [
       "(2846, 960, 505)"
      ]
     },
     "execution_count": 22,
     "metadata": {},
     "output_type": "execute_result"
    }
   ],
   "source": [
    "len(kw_ids), len(db_ids), len(db_kw_intersect)"
   ]
  },
  {
   "cell_type": "code",
   "execution_count": 24,
   "metadata": {
    "collapsed": false
   },
   "outputs": [],
   "source": [
    "merge = {}\n",
    "\n",
    "for idnum in db_kw_intersect:\n",
    "    merge[idnum] = kw[idnum] + db[idnum]"
   ]
  },
  {
   "cell_type": "code",
   "execution_count": 25,
   "metadata": {
    "collapsed": true
   },
   "outputs": [],
   "source": [
    "headers = keywords_head + database_head"
   ]
  },
  {
   "cell_type": "code",
   "execution_count": 27,
   "metadata": {
    "collapsed": true
   },
   "outputs": [],
   "source": [
    "with open('merged.csv', 'wt') as fout:\n",
    "    fout = csv.writer(fout)\n",
    "    fout.writerow(headers)\n",
    "    fout.writerows(merge.values())"
   ]
  },
  {
   "cell_type": "code",
   "execution_count": 39,
   "metadata": {
    "collapsed": false
   },
   "outputs": [],
   "source": [
    "in_kw_not_in_db = {}\n",
    "\n",
    "for idnum in db_kw_diff:\n",
    "    in_kw_not_in_db[idnum] = kw[idnum]\n",
    "    \n",
    "in_db_not_in_kw = {}\n",
    "\n",
    "for idnum in kw_db_diff:\n",
    "    in_db_not_in_kw[idnum] = db[idnum]\n",
    "\n",
    "with open('in_kw_not_in_db.csv', 'wt') as fout:\n",
    "    fout = csv.writer(fout)\n",
    "    fout.writerow(keywords_head)\n",
    "    fout.writerows(in_kw_not_in_db.values())\n",
    "    \n",
    "with open('in_db_not_in_kw.csv', 'wt') as fout:\n",
    "    fout = csv.writer(fout)\n",
    "    fout.writerow(database_head)\n",
    "    fout.writerows(in_db_not_in_kw.values())"
   ]
  },
  {
   "cell_type": "code",
   "execution_count": 34,
   "metadata": {
    "collapsed": false
   },
   "outputs": [
    {
     "data": {
      "text/plain": [
       "455"
      ]
     },
     "execution_count": 34,
     "metadata": {},
     "output_type": "execute_result"
    }
   ],
   "source": [
    "len(kw_db_diff)"
   ]
  },
  {
   "cell_type": "code",
   "execution_count": null,
   "metadata": {
    "collapsed": true
   },
   "outputs": [],
   "source": []
  }
 ],
 "metadata": {
  "kernelspec": {
   "display_name": "Python 2",
   "language": "python",
   "name": "python2"
  },
  "language_info": {
   "codemirror_mode": {
    "name": "ipython",
    "version": 2
   },
   "file_extension": ".py",
   "mimetype": "text/x-python",
   "name": "python",
   "nbconvert_exporter": "python",
   "pygments_lexer": "ipython2",
   "version": "2.7.12"
  }
 },
 "nbformat": 4,
 "nbformat_minor": 0
}
